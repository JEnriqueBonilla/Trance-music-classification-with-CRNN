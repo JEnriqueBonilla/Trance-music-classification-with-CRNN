{
 "cells": [
  {
   "cell_type": "code",
   "execution_count": 1,
   "metadata": {},
   "outputs": [
    {
     "name": "stderr",
     "output_type": "stream",
     "text": [
      "Using TensorFlow backend.\n"
     ]
    }
   ],
   "source": [
    "import warnings\n",
    "import pandas as pd \n",
    "import IPython.display as ipd\n",
    "from src.utility_trance import load_dataset_song_split, get_songs_split, logistic_test_performance, plot_label_frequencies\n",
    "from src.utility_trance import create_mfcc_dataset, load_dataset_previous_split, mfcc_test_performance, plot_min_major\n",
    "from src.utility_trance import create_melspectrogram_dataset, create_mel_vizualizations, create_trance_df, plot_keys, print_logistic_coefficients\n",
    "from src.models_trance import regularized_validation_logistic_regression, mfcc_ffnn\n",
    "from src.trainer_trance import train_slice_lengths_crnn\n",
    "from src.representation_trance import plot_mel_tsne"
   ]
  },
  {
   "cell_type": "markdown",
   "metadata": {},
   "source": [
    "## Exploratory Analysis"
   ]
  },
  {
   "cell_type": "markdown",
   "metadata": {},
   "source": [
    "### Metadata"
   ]
  },
  {
   "cell_type": "code",
   "execution_count": 4,
   "metadata": {},
   "outputs": [
    {
     "data": {
      "text/html": [
       "<div>\n",
       "<style scoped>\n",
       "    .dataframe tbody tr th:only-of-type {\n",
       "        vertical-align: middle;\n",
       "    }\n",
       "\n",
       "    .dataframe tbody tr th {\n",
       "        vertical-align: top;\n",
       "    }\n",
       "\n",
       "    .dataframe thead th {\n",
       "        text-align: right;\n",
       "    }\n",
       "</style>\n",
       "<table border=\"1\" class=\"dataframe\">\n",
       "  <thead>\n",
       "    <tr style=\"text-align: right;\">\n",
       "      <th></th>\n",
       "      <th>BPM</th>\n",
       "      <th>Genre</th>\n",
       "      <th>Label</th>\n",
       "      <th>Song_name</th>\n",
       "      <th>Key</th>\n",
       "      <th>Artists</th>\n",
       "      <th>Length</th>\n",
       "      <th>Song_file</th>\n",
       "      <th>Length_minutes</th>\n",
       "      <th>Min_or_Maj</th>\n",
       "    </tr>\n",
       "  </thead>\n",
       "  <tbody>\n",
       "    <tr>\n",
       "      <th>0</th>\n",
       "      <td>132</td>\n",
       "      <td>Trance</td>\n",
       "      <td>Coldharbour</td>\n",
       "      <td>Viola (Elevation Extended Remix).mp3</td>\n",
       "      <td>8A</td>\n",
       "      <td>Moogwai</td>\n",
       "      <td>407.0</td>\n",
       "      <td>8A - 132 - Moogwai - Viola (Elevation Extended...</td>\n",
       "      <td>6.783333</td>\n",
       "      <td>Min</td>\n",
       "    </tr>\n",
       "    <tr>\n",
       "      <th>1</th>\n",
       "      <td>132</td>\n",
       "      <td>Trance</td>\n",
       "      <td>Coldharbour</td>\n",
       "      <td>Searching (Daxson Extended Remix).mp3</td>\n",
       "      <td>9A</td>\n",
       "      <td>Markus Schulz Presents Dakota</td>\n",
       "      <td>410.0</td>\n",
       "      <td>9A - 132 - Markus Schulz Presents Dakota - Sea...</td>\n",
       "      <td>6.833333</td>\n",
       "      <td>Min</td>\n",
       "    </tr>\n",
       "    <tr>\n",
       "      <th>2</th>\n",
       "      <td>128</td>\n",
       "      <td>Trance</td>\n",
       "      <td>Coldharbour</td>\n",
       "      <td>Opera of Northern Ocean (Nifra Extended Remix...</td>\n",
       "      <td>3A</td>\n",
       "      <td>Rex Mundi</td>\n",
       "      <td>367.0</td>\n",
       "      <td>3A - 128 - Rex Mundi - Opera of Northern Ocean...</td>\n",
       "      <td>6.116667</td>\n",
       "      <td>Min</td>\n",
       "    </tr>\n",
       "    <tr>\n",
       "      <th>3</th>\n",
       "      <td>134</td>\n",
       "      <td>Trance</td>\n",
       "      <td>Coldharbour</td>\n",
       "      <td>Fire Which Burns Us All (Extended Mix).mp3</td>\n",
       "      <td>5A</td>\n",
       "      <td>Driftmoon &amp; Robert Nickson Present Astrosphere</td>\n",
       "      <td>395.0</td>\n",
       "      <td>5A - 134 - Driftmoon &amp; Robert Nickson Present ...</td>\n",
       "      <td>6.583333</td>\n",
       "      <td>Min</td>\n",
       "    </tr>\n",
       "    <tr>\n",
       "      <th>4</th>\n",
       "      <td>131</td>\n",
       "      <td>Trance</td>\n",
       "      <td>Coldharbour</td>\n",
       "      <td>Edge of Time (Artento Divini Extended Mix).mp3</td>\n",
       "      <td>5A</td>\n",
       "      <td>Nifra Feat Seri</td>\n",
       "      <td>353.0</td>\n",
       "      <td>5A - 131 - Nifra Feat Seri - Edge of Time (Art...</td>\n",
       "      <td>5.883333</td>\n",
       "      <td>Min</td>\n",
       "    </tr>\n",
       "  </tbody>\n",
       "</table>\n",
       "</div>"
      ],
      "text/plain": [
       "   BPM   Genre        Label  \\\n",
       "0  132  Trance  Coldharbour   \n",
       "1  132  Trance  Coldharbour   \n",
       "2  128  Trance  Coldharbour   \n",
       "3  134  Trance  Coldharbour   \n",
       "4  131  Trance  Coldharbour   \n",
       "\n",
       "                                           Song_name  Key  \\\n",
       "0               Viola (Elevation Extended Remix).mp3  8A    \n",
       "1              Searching (Daxson Extended Remix).mp3  9A    \n",
       "2   Opera of Northern Ocean (Nifra Extended Remix...  3A    \n",
       "3         Fire Which Burns Us All (Extended Mix).mp3  5A    \n",
       "4     Edge of Time (Artento Divini Extended Mix).mp3  5A    \n",
       "\n",
       "                                            Artists  Length  \\\n",
       "0                                          Moogwai    407.0   \n",
       "1                    Markus Schulz Presents Dakota    410.0   \n",
       "2                                        Rex Mundi    367.0   \n",
       "3   Driftmoon & Robert Nickson Present Astrosphere    395.0   \n",
       "4                                  Nifra Feat Seri    353.0   \n",
       "\n",
       "                                           Song_file  Length_minutes  \\\n",
       "0  8A - 132 - Moogwai - Viola (Elevation Extended...        6.783333   \n",
       "1  9A - 132 - Markus Schulz Presents Dakota - Sea...        6.833333   \n",
       "2  3A - 128 - Rex Mundi - Opera of Northern Ocean...        6.116667   \n",
       "3  5A - 134 - Driftmoon & Robert Nickson Present ...        6.583333   \n",
       "4  5A - 131 - Nifra Feat Seri - Edge of Time (Art...        5.883333   \n",
       "\n",
       "  Min_or_Maj  \n",
       "0        Min  \n",
       "1        Min  \n",
       "2        Min  \n",
       "3        Min  \n",
       "4        Min  "
      ]
     },
     "execution_count": 4,
     "metadata": {},
     "output_type": "execute_result"
    }
   ],
   "source": [
    "trance_df = create_trance_df(my_path = './electronic_music/Trance_label/6/')\n",
    "\n",
    "trance_df.head()"
   ]
  },
  {
   "cell_type": "code",
   "execution_count": 3,
   "metadata": {},
   "outputs": [
    {
     "data": {
      "text/plain": [
       "array(['Trance'], dtype=object)"
      ]
     },
     "execution_count": 3,
     "metadata": {},
     "output_type": "execute_result"
    }
   ],
   "source": [
    "trance_df[\"Genre\"].unique()"
   ]
  },
  {
   "cell_type": "code",
   "execution_count": 5,
   "metadata": {},
   "outputs": [
    {
     "data": {
      "image/png": "[encoded data removed]",
      "text/plain": [
       "<Figure size 432x288 with 1 Axes>"
      ]
     },
     "metadata": {
      "needs_background": "light"
     },
     "output_type": "display_data"
    }
   ],
   "source": [
    "plot_label_frequencies(trance_df=trance_df)"
   ]
  },
  {
   "cell_type": "markdown",
   "metadata": {},
   "source": [
    "### BPM varaince"
   ]
  },
  {
   "cell_type": "code",
   "execution_count": 6,
   "metadata": {},
   "outputs": [
    {
     "data": {
      "text/plain": [
       "<matplotlib.axes._subplots.AxesSubplot at 0x7f5232aa8588>"
      ]
     },
     "execution_count": 6,
     "metadata": {},
     "output_type": "execute_result"
    },
    {
     "data": {
      "image/png": "[encoded data removed]",
      "text/plain": [
       "<Figure size 432x288 with 1 Axes>"
      ]
     },
     "metadata": {
      "needs_background": "light"
     },
     "output_type": "display_data"
    }
   ],
   "source": [
    "trance_df.boxplot(column=['BPM'])"
   ]
  },
  {
   "cell_type": "code",
   "execution_count": 7,
   "metadata": {},
   "outputs": [
    {
     "data": {
      "text/plain": [
       "<matplotlib.axes._subplots.AxesSubplot at 0x7f522f13b470>"
      ]
     },
     "execution_count": 7,
     "metadata": {},
     "output_type": "execute_result"
    },
    {
     "data": {
      "image/png": "[encoded data removed]",
      "text/plain": [
       "<Figure size 432x288 with 1 Axes>"
      ]
     },
     "metadata": {
      "needs_background": "light"
     },
     "output_type": "display_data"
    }
   ],
   "source": [
    "trance_df.boxplot(column=['BPM'], by=\"Label\", rot=90)"
   ]
  },
  {
   "cell_type": "markdown",
   "metadata": {},
   "source": [
    "### Song length variance (Minutes)"
   ]
  },
  {
   "cell_type": "code",
   "execution_count": 8,
   "metadata": {},
   "outputs": [
    {
     "data": {
      "text/plain": [
       "<matplotlib.axes._subplots.AxesSubplot at 0x7f522f07ab38>"
      ]
     },
     "execution_count": 8,
     "metadata": {},
     "output_type": "execute_result"
    },
    {
     "data": {
      "image/png": "[encoded data removed]",
      "text/plain": [
       "<Figure size 432x288 with 1 Axes>"
      ]
     },
     "metadata": {
      "needs_background": "light"
     },
     "output_type": "display_data"
    }
   ],
   "source": [
    "trance_df.boxplot(column=['Length_minutes'])"
   ]
  },
  {
   "cell_type": "code",
   "execution_count": 9,
   "metadata": {},
   "outputs": [
    {
     "data": {
      "text/plain": [
       "<matplotlib.axes._subplots.AxesSubplot at 0x7f522f043eb8>"
      ]
     },
     "execution_count": 9,
     "metadata": {},
     "output_type": "execute_result"
    },
    {
     "data": {
      "image/png": "[encoded data removed]",
      "text/plain": [
       "<Figure size 432x288 with 1 Axes>"
      ]
     },
     "metadata": {
      "needs_background": "light"
     },
     "output_type": "display_data"
    }
   ],
   "source": [
    "trance_df.boxplot(column=['Length_minutes'], by=\"Label\", rot=90)"
   ]
  },
  {
   "cell_type": "markdown",
   "metadata": {},
   "source": [
    "### Key distribution"
   ]
  },
  {
   "cell_type": "code",
   "execution_count": 10,
   "metadata": {},
   "outputs": [
    {
     "data": {
      "text/plain": [
       "<matplotlib.axes._subplots.AxesSubplot at 0x7f522ef24278>"
      ]
     },
     "execution_count": 10,
     "metadata": {},
     "output_type": "execute_result"
    },
    {
     "data": {
      "image/png": "[encoded data removed]",
      "text/plain": [
       "<Figure size 432x288 with 1 Axes>"
      ]
     },
     "metadata": {
      "needs_background": "light"
     },
     "output_type": "display_data"
    }
   ],
   "source": [
    "data = trance_df[\"Key\"].value_counts()\n",
    "data = data/data.sum()\n",
    "data.plot(kind='bar')"
   ]
  },
  {
   "cell_type": "code",
   "execution_count": 11,
   "metadata": {},
   "outputs": [
    {
     "data": {
      "image/png": "[encoded data removed]",
      "text/plain": [
       "<Figure size 1296x1296 with 6 Axes>"
      ]
     },
     "metadata": {
      "needs_background": "light"
     },
     "output_type": "display_data"
    }
   ],
   "source": [
    "plot_keys(trance_df, sort_index=False)"
   ]
  },
  {
   "cell_type": "code",
   "execution_count": 12,
   "metadata": {},
   "outputs": [
    {
     "data": {
      "image/png": "[encoded data removed]",
      "text/plain": [
       "<Figure size 1296x1296 with 6 Axes>"
      ]
     },
     "metadata": {
      "needs_background": "light"
     },
     "output_type": "display_data"
    }
   ],
   "source": [
    "plot_keys(trance_df, sort_index=True)"
   ]
  },
  {
   "cell_type": "markdown",
   "metadata": {},
   "source": [
    "### Key distribution (Minor and Mayor) "
   ]
  },
  {
   "cell_type": "code",
   "execution_count": 13,
   "metadata": {},
   "outputs": [
    {
     "data": {
      "text/plain": [
       "<matplotlib.axes._subplots.AxesSubplot at 0x7f522eb48da0>"
      ]
     },
     "execution_count": 13,
     "metadata": {},
     "output_type": "execute_result"
    },
    {
     "data": {
      "image/png": "[encoded data removed]",
      "text/plain": [
       "<Figure size 432x288 with 1 Axes>"
      ]
     },
     "metadata": {
      "needs_background": "light"
     },
     "output_type": "display_data"
    }
   ],
   "source": [
    "data = trance_df[\"Min_or_Maj\"].value_counts()\n",
    "data = data/data.sum()\n",
    "data.plot(kind='bar')"
   ]
  },
  {
   "cell_type": "code",
   "execution_count": 14,
   "metadata": {},
   "outputs": [
    {
     "data": {
      "image/png": "[encoded data removed]",
      "text/plain": [
       "<Figure size 1296x1296 with 6 Axes>"
      ]
     },
     "metadata": {
      "needs_background": "light"
     },
     "output_type": "display_data"
    }
   ],
   "source": [
    "plot_min_major(trance_df)"
   ]
  },
  {
   "cell_type": "markdown",
   "metadata": {},
   "source": [
    "## Logistic Regression"
   ]
  },
  {
   "cell_type": "markdown",
   "metadata": {},
   "source": [
    "### Data"
   ]
  },
  {
   "cell_type": "code",
   "execution_count": 15,
   "metadata": {},
   "outputs": [
    {
     "data": {
      "text/html": [
       "<div>\n",
       "<style scoped>\n",
       "    .dataframe tbody tr th:only-of-type {\n",
       "        vertical-align: middle;\n",
       "    }\n",
       "\n",
       "    .dataframe tbody tr th {\n",
       "        vertical-align: top;\n",
       "    }\n",
       "\n",
       "    .dataframe thead th {\n",
       "        text-align: right;\n",
       "    }\n",
       "</style>\n",
       "<table border=\"1\" class=\"dataframe\">\n",
       "  <thead>\n",
       "    <tr style=\"text-align: right;\">\n",
       "      <th></th>\n",
       "      <th>BPM</th>\n",
       "      <th>Length</th>\n",
       "      <th>Key_10A</th>\n",
       "      <th>Key_10B</th>\n",
       "      <th>Key_11A</th>\n",
       "      <th>Key_11B</th>\n",
       "      <th>Key_12A</th>\n",
       "      <th>Key_12B</th>\n",
       "      <th>Key_1A</th>\n",
       "      <th>Key_1B</th>\n",
       "      <th>...</th>\n",
       "      <th>Key_6B</th>\n",
       "      <th>Key_7A</th>\n",
       "      <th>Key_7B</th>\n",
       "      <th>Key_8A</th>\n",
       "      <th>Key_8B</th>\n",
       "      <th>Key_9A</th>\n",
       "      <th>Key_9B</th>\n",
       "      <th>Min_or_Maj_Maj</th>\n",
       "      <th>Min_or_Maj_Min</th>\n",
       "      <th>BPM_x_Length</th>\n",
       "    </tr>\n",
       "  </thead>\n",
       "  <tbody>\n",
       "    <tr>\n",
       "      <th>0</th>\n",
       "      <td>132</td>\n",
       "      <td>407.0</td>\n",
       "      <td>0</td>\n",
       "      <td>0</td>\n",
       "      <td>0</td>\n",
       "      <td>0</td>\n",
       "      <td>0</td>\n",
       "      <td>0</td>\n",
       "      <td>0</td>\n",
       "      <td>0</td>\n",
       "      <td>...</td>\n",
       "      <td>0</td>\n",
       "      <td>0</td>\n",
       "      <td>0</td>\n",
       "      <td>1</td>\n",
       "      <td>0</td>\n",
       "      <td>0</td>\n",
       "      <td>0</td>\n",
       "      <td>0</td>\n",
       "      <td>1</td>\n",
       "      <td>53724.0</td>\n",
       "    </tr>\n",
       "    <tr>\n",
       "      <th>1</th>\n",
       "      <td>132</td>\n",
       "      <td>410.0</td>\n",
       "      <td>0</td>\n",
       "      <td>0</td>\n",
       "      <td>0</td>\n",
       "      <td>0</td>\n",
       "      <td>0</td>\n",
       "      <td>0</td>\n",
       "      <td>0</td>\n",
       "      <td>0</td>\n",
       "      <td>...</td>\n",
       "      <td>0</td>\n",
       "      <td>0</td>\n",
       "      <td>0</td>\n",
       "      <td>0</td>\n",
       "      <td>0</td>\n",
       "      <td>1</td>\n",
       "      <td>0</td>\n",
       "      <td>0</td>\n",
       "      <td>1</td>\n",
       "      <td>54120.0</td>\n",
       "    </tr>\n",
       "    <tr>\n",
       "      <th>2</th>\n",
       "      <td>128</td>\n",
       "      <td>367.0</td>\n",
       "      <td>0</td>\n",
       "      <td>0</td>\n",
       "      <td>0</td>\n",
       "      <td>0</td>\n",
       "      <td>0</td>\n",
       "      <td>0</td>\n",
       "      <td>0</td>\n",
       "      <td>0</td>\n",
       "      <td>...</td>\n",
       "      <td>0</td>\n",
       "      <td>0</td>\n",
       "      <td>0</td>\n",
       "      <td>0</td>\n",
       "      <td>0</td>\n",
       "      <td>0</td>\n",
       "      <td>0</td>\n",
       "      <td>0</td>\n",
       "      <td>1</td>\n",
       "      <td>46976.0</td>\n",
       "    </tr>\n",
       "    <tr>\n",
       "      <th>3</th>\n",
       "      <td>134</td>\n",
       "      <td>395.0</td>\n",
       "      <td>0</td>\n",
       "      <td>0</td>\n",
       "      <td>0</td>\n",
       "      <td>0</td>\n",
       "      <td>0</td>\n",
       "      <td>0</td>\n",
       "      <td>0</td>\n",
       "      <td>0</td>\n",
       "      <td>...</td>\n",
       "      <td>0</td>\n",
       "      <td>0</td>\n",
       "      <td>0</td>\n",
       "      <td>0</td>\n",
       "      <td>0</td>\n",
       "      <td>0</td>\n",
       "      <td>0</td>\n",
       "      <td>0</td>\n",
       "      <td>1</td>\n",
       "      <td>52930.0</td>\n",
       "    </tr>\n",
       "    <tr>\n",
       "      <th>4</th>\n",
       "      <td>131</td>\n",
       "      <td>353.0</td>\n",
       "      <td>0</td>\n",
       "      <td>0</td>\n",
       "      <td>0</td>\n",
       "      <td>0</td>\n",
       "      <td>0</td>\n",
       "      <td>0</td>\n",
       "      <td>0</td>\n",
       "      <td>0</td>\n",
       "      <td>...</td>\n",
       "      <td>0</td>\n",
       "      <td>0</td>\n",
       "      <td>0</td>\n",
       "      <td>0</td>\n",
       "      <td>0</td>\n",
       "      <td>0</td>\n",
       "      <td>0</td>\n",
       "      <td>0</td>\n",
       "      <td>1</td>\n",
       "      <td>46243.0</td>\n",
       "    </tr>\n",
       "  </tbody>\n",
       "</table>\n",
       "<p>5 rows × 29 columns</p>\n",
       "</div>"
      ],
      "text/plain": [
       "   BPM  Length  Key_10A   Key_10B   Key_11A   Key_11B   Key_12A   Key_12B   \\\n",
       "0  132   407.0         0         0         0         0         0         0   \n",
       "1  132   410.0         0         0         0         0         0         0   \n",
       "2  128   367.0         0         0         0         0         0         0   \n",
       "3  134   395.0         0         0         0         0         0         0   \n",
       "4  131   353.0         0         0         0         0         0         0   \n",
       "\n",
       "   Key_1A   Key_1B       ...       Key_6B   Key_7A   Key_7B   Key_8A   \\\n",
       "0        0        0      ...             0        0        0        1   \n",
       "1        0        0      ...             0        0        0        0   \n",
       "2        0        0      ...             0        0        0        0   \n",
       "3        0        0      ...             0        0        0        0   \n",
       "4        0        0      ...             0        0        0        0   \n",
       "\n",
       "   Key_8B   Key_9A   Key_9B   Min_or_Maj_Maj  Min_or_Maj_Min  BPM_x_Length  \n",
       "0        0        0        0               0               1       53724.0  \n",
       "1        0        1        0               0               1       54120.0  \n",
       "2        0        0        0               0               1       46976.0  \n",
       "3        0        0        0               0               1       52930.0  \n",
       "4        0        0        0               0               1       46243.0  \n",
       "\n",
       "[5 rows x 29 columns]"
      ]
     },
     "execution_count": 15,
     "metadata": {},
     "output_type": "execute_result"
    }
   ],
   "source": [
    "logistic_data = pd.get_dummies(trance_df[['BPM', 'Key', 'Length', 'Min_or_Maj']])\n",
    "logistic_data['BPM_x_Length'] = logistic_data['BPM']*logistic_data['Length']\n",
    "logistic_data.head()"
   ]
  },
  {
   "cell_type": "code",
   "execution_count": 16,
   "metadata": {},
   "outputs": [],
   "source": [
    "Y_train, X_train, S_train, \\\n",
    "Y_test, X_test, S_test, \\\n",
    "Y_val, X_val, S_val = load_dataset_song_split(X=logistic_data, \n",
    "                                              Y=trance_df[['Label']] , \n",
    "                                              S=trance_df[['Song_file']], \n",
    "                                              test_split_size=0.1,\n",
    "                                              validation_split_size=0.1, \n",
    "                                              random_state=42)\n",
    "\n",
    "train_songs, val_songs, test_songs = get_songs_split(S_train, S_val, S_test)"
   ]
  },
  {
   "cell_type": "markdown",
   "metadata": {},
   "source": [
    "### Train Model"
   ]
  },
  {
   "cell_type": "code",
   "execution_count": 17,
   "metadata": {},
   "outputs": [
    {
     "data": {
      "text/plain": [
       "{'best_accuracy': 0.6388888888888888, 'inverse_constant': 0.1}"
      ]
     },
     "execution_count": 17,
     "metadata": {},
     "output_type": "execute_result"
    }
   ],
   "source": [
    "best_performance, logistic_model = regularized_validation_logistic_regression(X_train=X_train, \n",
    "                                                                              Y_train=Y_train.values.ravel(), \n",
    "                                                                              X_val=X_val, \n",
    "                                                                              Y_val=Y_val.values.ravel(), \n",
    "                                                                              inverse_regularization_strength=[.1, .5, 1, 2, 5, 10],\n",
    "                                                                              n_classes=6)\n",
    "\n",
    "best_performance"
   ]
  },
  {
   "cell_type": "code",
   "execution_count": 18,
   "metadata": {},
   "outputs": [
    {
     "name": "stdout",
     "output_type": "stream",
     "text": [
      "Anjunabeats \n",
      "\n",
      "('Length', 0.1940330640951185)\n",
      "('BPM', 0.03188794962435424)\n",
      "('Min_or_Maj_Min', 0.0019707372141593914)\n",
      "('Key_2A ', 0.0010318655763761266)\n",
      "('Key_5A ', 0.0010086421487475136)\n",
      "('Key_10A ', 0.0009791858407890385)\n",
      "('Key_3B ', 0.0007003630523116769)\n",
      "('Key_12A ', 0.0006424525567920326)\n",
      "('Key_3A ', 0.00033673670977571864)\n",
      "('Key_10B ', 0.0003123875834575372)\n",
      "('Key_6A ', 0.00023846612646785778)\n",
      "('Key_8A ', 0.00020798264745705938)\n",
      "('Key_9A ', 4.774643691874878e-05)\n",
      "('Key_1B ', -2.2268609269297392e-05)\n",
      "('Key_4B ', -3.0586845680293264e-05)\n",
      "('Key_6B ', -6.243110511406375e-05)\n",
      "('Key_5B ', -0.0001394757403288278)\n",
      "('Key_7B ', -0.00019582409732877822)\n",
      "('Key_4A ', -0.0002280735412951623)\n",
      "('Key_2B ', -0.0002935621159628243)\n",
      "('Key_8B ', -0.0003075031473135594)\n",
      "('Key_12B ', -0.0003488813659265131)\n",
      "('Key_11B ', -0.00040552712296247314)\n",
      "('Key_9B ', -0.0004225648900896026)\n",
      "('Key_11A ', -0.0007255619915801601)\n",
      "('Key_7A ', -0.000739373750732637)\n",
      "('Key_1A ', -0.0008293315460771502)\n",
      "('Min_or_Maj_Maj', -0.0012158744045695472)\n",
      "('BPM_x_Length', -0.0015412212337269798)\n",
      "\n",
      "Armind \n",
      "\n",
      "('Length', 0.10897882364647335)\n",
      "('BPM', 0.0645133607896464)\n",
      "('Key_11A ', 0.0015506477414467398)\n",
      "('Key_4A ', 0.001499436960721285)\n",
      "('Key_1A ', 0.0011499123808556807)\n",
      "('Key_9B ', 0.000475479536184803)\n",
      "('Key_12B ', 0.00045212078953370944)\n",
      "('Key_2B ', 0.0004236892050506516)\n",
      "('Min_or_Maj_Maj', 0.00040091598741662964)\n",
      "('Min_or_Maj_Min', 0.0003800974595051505)\n",
      "('Key_5A ', 0.0003634931410947092)\n",
      "('Key_11B ', 0.00024039833573997321)\n",
      "('Key_5B ', 0.00023570879826295923)\n",
      "('Key_12A ', 0.00018422010605656066)\n",
      "('Key_9A ', 8.853262049520777e-05)\n",
      "('Key_1B ', -1.612731607872523e-05)\n",
      "('Key_4B ', -2.897791721087407e-05)\n",
      "('Key_6B ', -5.3659919285868405e-05)\n",
      "('Key_8B ', -0.0001186072971375972)\n",
      "('Key_10B ', -0.0001605649589935589)\n",
      "('Key_2A ', -0.0003053378420238043)\n",
      "('Key_10A ', -0.0004083216373728622)\n",
      "('Key_7B ', -0.0005061933593335954)\n",
      "('Key_7A ', -0.0005352043655086255)\n",
      "('Key_3B ', -0.0005423499094815584)\n",
      "('Key_6A ', -0.0007708588356055151)\n",
      "('BPM_x_Length', -0.0009754404246770283)\n",
      "('Key_3A ', -0.0010405336356600703)\n",
      "('Key_8A ', -0.001395889172817631)\n",
      "\n",
      "Coldharbour \n",
      "\n",
      "('Length', 0.0707986601279732)\n",
      "('Key_8A ', 0.0017668774590334196)\n",
      "('Key_7A ', 0.0014566910642322569)\n",
      "('Key_1A ', 0.0009796623336613404)\n",
      "('Key_6A ', 0.0009219514169030483)\n",
      "('Key_5A ', 0.0003927905385894858)\n",
      "('Key_9B ', 0.0003288896005133774)\n",
      "('Min_or_Maj_Min', 0.000281349063917998)\n",
      "('Key_11B ', 0.0002625504652825806)\n",
      "('Key_3B ', 3.2638281626789063e-05)\n",
      "('Key_7B ', 2.3486269251328334e-05)\n",
      "('Key_4B ', -4.439896639177596e-05)\n",
      "('Key_1B ', -4.679792873684701e-05)\n",
      "('Key_5B ', -8.884912518421006e-05)\n",
      "('Key_6B ', -9.978951976527923e-05)\n",
      "('Key_12B ', -0.0001223105082153821)\n",
      "('Key_8B ', -0.00012658783537531203)\n",
      "('Key_10B ', -0.00016503973587500003)\n",
      "('Key_2B ', -0.00026985077385380306)\n",
      "('Key_4A ', -0.0002936439674675839)\n",
      "('Key_3A ', -0.0002996729671403873)\n",
      "('Min_or_Maj_Maj', -0.00031605977672513846)\n",
      "('BPM_x_Length', -0.00045370511692373496)\n",
      "('Key_11A ', -0.0004680045552361354)\n",
      "('Key_2A ', -0.0006005409953227815)\n",
      "('Key_12A ', -0.0010231779319484536)\n",
      "('Key_9A ', -0.0012709771860325062)\n",
      "('Key_10A ', -0.001280606145463203)\n",
      "('BPM', -0.02433322871081117)\n",
      "\n",
      "FSOE \n",
      "\n",
      "('Key_1A ', 0.001370786559528242)\n",
      "('BPM_x_Length', 0.0013525759884534493)\n",
      "('Key_7B ', 0.0008601723519670126)\n",
      "('Min_or_Maj_Maj', 0.000827694671360045)\n",
      "('Key_5A ', 0.0006913131216242737)\n",
      "('Key_7A ', 0.00048133039634122094)\n",
      "('Key_4B ', 0.00045403755810755677)\n",
      "('Key_11B ', 0.00045352392990291964)\n",
      "('Key_9B ', 0.0003724754943618253)\n",
      "('Key_1B ', 0.00030886223754002847)\n",
      "('Key_8A ', 0.00019533054274719182)\n",
      "('Key_2B ', 0.00017729645276784957)\n",
      "('Key_6B ', 0.00012149564217949884)\n",
      "('Key_3A ', -3.6113207169221534e-05)\n",
      "('Key_10A ', -0.00011378977648287534)\n",
      "('Key_11A ', -0.00017389261791230014)\n",
      "('Key_3B ', -0.00019514503899576756)\n",
      "('Key_6A ', -0.0002468250399738059)\n",
      "('Key_10B ', -0.00024814756491904795)\n",
      "('Key_12B ', -0.0003042762762737821)\n",
      "('Key_5B ', -0.00032232678020964944)\n",
      "('Key_2A ', -0.0003672844601179488)\n",
      "('Key_9A ', -0.0007673091737388344)\n",
      "('Key_12A ', -0.000829114142221845)\n",
      "('Key_8B ', -0.0008502733351886524)\n",
      "('Min_or_Maj_Min', -0.001590324796918625)\n",
      "('Key_4A ', -0.001794756999412322)\n",
      "('BPM', -0.0477931968457175)\n",
      "('Length', -0.16629857409454127)\n",
      "\n",
      "Pure \n",
      "\n",
      "('Min_or_Maj_Maj', 0.002746098008966006)\n",
      "('Key_8B ', 0.001705051354466555)\n",
      "('Key_2A ', 0.0011864718047355017)\n",
      "('Key_10A ', 0.0007940599425822403)\n",
      "('Key_7A ', 0.0006573699780699017)\n",
      "('Key_3B ', 0.0005744300572827018)\n",
      "('Key_7B ', 0.0005321089427970456)\n",
      "('Key_10B ', 0.0004448600561906468)\n",
      "('Key_12B ', 0.00043957302248853416)\n",
      "('BPM_x_Length', 0.000436128694518035)\n",
      "('Key_2B ', 0.00024605372968728687)\n",
      "('Key_12A ', 0.00011350561875745199)\n",
      "('Key_9A ', 5.740891928258941e-05)\n",
      "('Key_4B ', -0.000101285416887066)\n",
      "('Key_4A ', -0.00015114165940079637)\n",
      "('Key_5B ', -0.00019276716487253375)\n",
      "('Key_1B ', -0.00020255872029210993)\n",
      "('Key_9B ', -0.00022460324450727776)\n",
      "('Key_11B ', -0.00022511745724853387)\n",
      "('Key_6B ', -0.0002496471498026373)\n",
      "('Key_11A ', -0.0004209179855588035)\n",
      "('Key_5A ', -0.0006952797720287268)\n",
      "('Key_6A ', -0.0008955978456948613)\n",
      "('Key_8A ', -0.0009197855272809386)\n",
      "('Key_3A ', -0.0012782350962004033)\n",
      "('Key_1A ', -0.0016033853199471089)\n",
      "('Min_or_Maj_Min', -0.003155526941180466)\n",
      "('BPM', -0.03762283414796086)\n",
      "('Length', -0.044094937601140735)\n",
      "\n",
      "WAO138 \n",
      "\n",
      "('BPM', 0.013347949358873403)\n",
      "('Key_3A ', 0.002317818196804229)\n",
      "('Min_or_Maj_Min', 0.002113667998941209)\n",
      "('Key_9A ', 0.0018445983823000204)\n",
      "('BPM_x_Length', 0.0011816620929164835)\n",
      "('Key_4A ', 0.0009681792062456953)\n",
      "('Key_12A ', 0.0009121137932194697)\n",
      "('Key_6A ', 0.0007528641773245675)\n",
      "('Key_5B ', 0.0005077100122636491)\n",
      "('Key_6B ', 0.0003440320518272183)\n",
      "('Key_11A ', 0.00023772940893387214)\n",
      "('Key_8A ', 0.00014548405099042253)\n",
      "('Key_10A ', 2.947177616774279e-05)\n",
      "('Key_1B ', -2.1109663101743362e-05)\n",
      "('Key_12B ', -0.00011622566163958671)\n",
      "('Key_10B ', -0.00018349538016025106)\n",
      "('Key_4B ', -0.00024878841189115926)\n",
      "('Key_2B ', -0.0002836264978023313)\n",
      "('Key_8B ', -0.00030207973888001297)\n",
      "('Key_11B ', -0.00032582815066743297)\n",
      "('Key_9B ', -0.000529676496526375)\n",
      "('Key_3B ', -0.0005699364427783676)\n",
      "('Key_7B ', -0.0007137501072377088)\n",
      "('Key_2A ', -0.0009451740839270147)\n",
      "('Key_1A ', -0.0010676444087033747)\n",
      "('Key_7A ', -0.0013208133227582265)\n",
      "('Key_5A ', -0.0017609591775372172)\n",
      "('Min_or_Maj_Maj', -0.0024427744863120934)\n",
      "('Length', -0.1634170362694227)\n",
      "\n"
     ]
    }
   ],
   "source": [
    "print_logistic_coefficients(logistic_model=logistic_model, \n",
    "                            logistic_data=logistic_data)"
   ]
  },
  {
   "cell_type": "code",
   "execution_count": 19,
   "metadata": {},
   "outputs": [
    {
     "name": "stdout",
     "output_type": "stream",
     "text": [
      "Test accuracy: 0.65\n",
      "\n",
      "Test results on each slice:\n",
      "              precision    recall  f1-score   support\n",
      "\n",
      " Anjunabeats       0.64      0.88      0.74         8\n",
      "      Armind       0.71      0.71      0.71         7\n",
      " Coldharbour       0.60      0.50      0.55         6\n",
      "        FSOE       0.58      0.88      0.70         8\n",
      "        Pure       0.00      0.00      0.00         5\n",
      "      WAO138       0.80      0.67      0.73         6\n",
      "\n",
      "   micro avg       0.65      0.65      0.65        40\n",
      "   macro avg       0.56      0.61      0.57        40\n",
      "weighted avg       0.58      0.65      0.60        40\n",
      "\n"
     ]
    },
    {
     "data": {
      "text/plain": [
       "<Figure size 1008x1008 with 0 Axes>"
      ]
     },
     "metadata": {},
     "output_type": "display_data"
    }
   ],
   "source": [
    "test_accuracy, scores, scores_dict = logistic_test_performance(X_test=X_test, \n",
    "                                                               Y_test=Y_test,\n",
    "                                                               n_labels=6,\n",
    "                                                               logistic_model=logistic_model, \n",
    "                                                               save_metrics=True, \n",
    "                                                               plot_folder='./metrics_plots_logistic')\n",
    "\n",
    "print('Test accuracy:', test_accuracy)\n",
    "print('\\nTest results on each slice:')\n",
    "print(scores)"
   ]
  },
  {
   "cell_type": "markdown",
   "metadata": {},
   "source": [
    "![caption](./metrics_plots_logistic/logistic_6.png)"
   ]
  },
  {
   "cell_type": "markdown",
   "metadata": {},
   "source": [
    "## (Deep) FeedFoward Neural Network"
   ]
  },
  {
   "cell_type": "markdown",
   "metadata": {},
   "source": [
    "### Data"
   ]
  },
  {
   "cell_type": "code",
   "execution_count": 20,
   "metadata": {},
   "outputs": [],
   "source": [
    "create_mfcc_dataset(label_folder='./electronic_music/Trance_label/6/', \n",
    "                    song_duration=180.0,\n",
    "                    save_folder='song_mfccs_label_data/6', \n",
    "                    sr=44100,\n",
    "                    create_dataset=False) \n",
    "\n",
    "Y_train, X_train, S_train, \\\n",
    "Y_test, X_test, S_test, \\\n",
    "Y_val, X_val, S_val = load_dataset_previous_split(train_songs=train_songs, \n",
    "                                                  val_songs=val_songs, \n",
    "                                                  test_songs=test_songs, \n",
    "                                                  song_folder_name='song_mfccs_label_data/6/')"
   ]
  },
  {
   "cell_type": "markdown",
   "metadata": {},
   "source": [
    "### Train Model"
   ]
  },
  {
   "cell_type": "code",
   "execution_count": 21,
   "metadata": {},
   "outputs": [
    {
     "name": "stdout",
     "output_type": "stream",
     "text": [
      "WARNING:tensorflow:From /home/kike/miniconda3/envs/trance_classification/lib/python3.6/site-packages/keras/backend/tensorflow_backend.py:2880: calling reduce_sum (from tensorflow.python.ops.math_ops) with keep_dims is deprecated and will be removed in a future version.\n",
      "Instructions for updating:\n",
      "keep_dims is deprecated, use keepdims instead\n",
      "WARNING:tensorflow:From /home/kike/miniconda3/envs/trance_classification/lib/python3.6/site-packages/keras/backend/tensorflow_backend.py:1344: calling reduce_mean (from tensorflow.python.ops.math_ops) with keep_dims is deprecated and will be removed in a future version.\n",
      "Instructions for updating:\n",
      "keep_dims is deprecated, use keepdims instead\n",
      "_________________________________________________________________\n",
      "Layer (type)                 Output Shape              Param #   \n",
      "=================================================================\n",
      "dense_1 (Dense)              (None, 256)               10496     \n",
      "_________________________________________________________________\n",
      "activation_1 (Activation)    (None, 256)               0         \n",
      "_________________________________________________________________\n",
      "dropout_1 (Dropout)          (None, 256)               0         \n",
      "_________________________________________________________________\n",
      "dense_2 (Dense)              (None, 256)               65792     \n",
      "_________________________________________________________________\n",
      "activation_2 (Activation)    (None, 256)               0         \n",
      "_________________________________________________________________\n",
      "dropout_2 (Dropout)          (None, 256)               0         \n",
      "_________________________________________________________________\n",
      "dense_3 (Dense)              (None, 6)                 1542      \n",
      "_________________________________________________________________\n",
      "activation_3 (Activation)    (None, 6)                 0         \n",
      "=================================================================\n",
      "Total params: 77,830\n",
      "Trainable params: 77,830\n",
      "Non-trainable params: 0\n",
      "_________________________________________________________________\n",
      "Checkpoint file detected. Loading weights.\n"
     ]
    }
   ],
   "source": [
    "mfcc_model = mfcc_ffnn(X_train=X_train, \n",
    "                       Y_train=Y_train, \n",
    "                       X_val=X_val, \n",
    "                       Y_val=Y_val, \n",
    "                       n_classes=6, \n",
    "                       save_weights_folder='weights_mfcc', \n",
    "                       random_state=42, \n",
    "                       verbose=True, \n",
    "                       early_stop=30, \n",
    "                       batch_size=16, \n",
    "                       epochs=200, \n",
    "                       train=False, \n",
    "                       load_checkpoint=True)"
   ]
  },
  {
   "cell_type": "markdown",
   "metadata": {},
   "source": [
    "### Performance"
   ]
  },
  {
   "cell_type": "code",
   "execution_count": 22,
   "metadata": {},
   "outputs": [
    {
     "name": "stdout",
     "output_type": "stream",
     "text": [
      "Test score/loss: 1.8314266681671143\n",
      "Test accuracy: 0.225\n",
      "\n",
      "Test results on each slice:\n",
      "              precision    recall  f1-score   support\n",
      "\n",
      " Anjunabeats       0.12      0.12      0.12         8\n",
      "      Armind       0.33      0.14      0.20         7\n",
      " Coldharbour       1.00      0.17      0.29         6\n",
      "        FSOE       0.17      0.12      0.14         8\n",
      "        Pure       0.30      0.60      0.40         5\n",
      "      WAO138       0.17      0.33      0.22         6\n",
      "\n",
      "   micro avg       0.23      0.23      0.23        40\n",
      "   macro avg       0.35      0.25      0.23        40\n",
      "weighted avg       0.33      0.23      0.21        40\n",
      "\n"
     ]
    },
    {
     "data": {
      "text/plain": [
       "<Figure size 1008x1008 with 0 Axes>"
      ]
     },
     "metadata": {},
     "output_type": "display_data"
    }
   ],
   "source": [
    "score, scores, scores_dict = mfcc_test_performance(X_test=X_test, \n",
    "                                                   Y_test=Y_test, \n",
    "                                                   model=mfcc_model, \n",
    "                                                   n_classes=6, \n",
    "                                                   save_metrics=True, \n",
    "                                                   plot_folder='./metrics_plots_mfcc')\n",
    "\n",
    "print('Test score/loss:', score[0])\n",
    "print('Test accuracy:', score[1])\n",
    "print('\\nTest results on each slice:')\n",
    "print(scores)"
   ]
  },
  {
   "cell_type": "markdown",
   "metadata": {},
   "source": [
    "![caption](./metrics_plots_mfcc/mfcc_6.png)"
   ]
  },
  {
   "cell_type": "markdown",
   "metadata": {},
   "source": [
    "## Convolutional Recurrent Neural Netowrk"
   ]
  },
  {
   "cell_type": "markdown",
   "metadata": {},
   "source": [
    "### Data"
   ]
  },
  {
   "cell_type": "code",
   "execution_count": 23,
   "metadata": {},
   "outputs": [],
   "source": [
    "create_melspectrogram_dataset(label_folder='electronic_music/Trance_label/6/', \n",
    "                              save_folder='song_mel_label_data/6',\n",
    "                              sr=44100, \n",
    "                              n_mels=128, \n",
    "                              n_fft=2048, \n",
    "                              hop_length=512, \n",
    "                              song_duration=180.0,\n",
    "                              create_data=False)"
   ]
  },
  {
   "cell_type": "markdown",
   "metadata": {},
   "source": [
    "### Vizualize data"
   ]
  },
  {
   "cell_type": "code",
   "execution_count": 24,
   "metadata": {},
   "outputs": [],
   "source": [
    "create_mel_vizualizations(song_path='electronic_music/Trance_label/6/Anjunabeats/10A - 128 - Above & Beyond - Distorted Truth (Extended Mix).mp3', \n",
    "                          label_folder='electronic_music/Trance_label/6/',\n",
    "                          n_classes=6,\n",
    "                          plot_folder='spectogram_mel', \n",
    "                          create_visuals=False, \n",
    "                          save_visuals=True, \n",
    "                          song_duration=180.0)"
   ]
  },
  {
   "cell_type": "markdown",
   "metadata": {},
   "source": [
    "![caption](./spectogram_mel/10A-128-Above&Beyond-DistortedTruth(ExtendedMix).png)"
   ]
  },
  {
   "cell_type": "markdown",
   "metadata": {},
   "source": [
    "![caption](./spectogram_mel/spectrograms_6.png)"
   ]
  },
  {
   "cell_type": "markdown",
   "metadata": {},
   "source": [
    "### Train Model and Performance"
   ]
  },
  {
   "cell_type": "markdown",
   "metadata": {},
   "source": [
    "* Frames to seconds for 44100 sample rate songs:  \n",
    "    \n",
    "    1s - 86 frames    \n",
    "    3s - 258 frames    \n",
    "    5s - 430 frames       \n",
    "    10s - 861 frames     \n",
    "    20s - 1722 frames          \n",
    "    30s - 2584 frames   \n",
    "    180s - 15504 frames "
   ]
  },
  {
   "cell_type": "code",
   "execution_count": 25,
   "metadata": {},
   "outputs": [
    {
     "name": "stdout",
     "output_type": "stream",
     "text": [
      "Training for slice length of 2584 \n",
      "\n",
      "Training set label counts: (array(['Anjunabeats', 'Armind', 'Coldharbour', 'FSOE', 'Pure', 'WAO138'],\n",
      "      dtype='<U11'), array([366, 336, 288, 366, 276, 300])) \n",
      "\n",
      "model summary\n",
      "_________________________________________________________________\n",
      "Layer (type)                 Output Shape              Param #   \n",
      "=================================================================\n",
      "batch_normalization_1 (Batch (None, 128, 2584, 1)      512       \n",
      "_________________________________________________________________\n",
      "conv2d_1 (Conv2D)            (None, 128, 2584, 64)     640       \n",
      "_________________________________________________________________\n",
      "activation_4 (Activation)    (None, 128, 2584, 64)     0         \n",
      "_________________________________________________________________\n",
      "batch_normalization_2 (Batch (None, 128, 2584, 64)     256       \n",
      "_________________________________________________________________\n",
      "max_pooling2d_1 (MaxPooling2 (None, 64, 1292, 64)      0         \n",
      "_________________________________________________________________\n",
      "dropout_3 (Dropout)          (None, 64, 1292, 64)      0         \n",
      "_________________________________________________________________\n",
      "conv2d_2 (Conv2D)            (None, 64, 1292, 128)     73856     \n",
      "_________________________________________________________________\n",
      "activation_5 (Activation)    (None, 64, 1292, 128)     0         \n",
      "_________________________________________________________________\n",
      "batch_normalization_3 (Batch (None, 64, 1292, 128)     512       \n",
      "_________________________________________________________________\n",
      "max_pooling2d_2 (MaxPooling2 (None, 16, 646, 128)      0         \n",
      "_________________________________________________________________\n",
      "dropout_4 (Dropout)          (None, 16, 646, 128)      0         \n",
      "_________________________________________________________________\n",
      "conv2d_3 (Conv2D)            (None, 16, 646, 128)      147584    \n",
      "_________________________________________________________________\n",
      "activation_6 (Activation)    (None, 16, 646, 128)      0         \n",
      "_________________________________________________________________\n",
      "batch_normalization_4 (Batch (None, 16, 646, 128)      512       \n",
      "_________________________________________________________________\n",
      "max_pooling2d_3 (MaxPooling2 (None, 4, 323, 128)       0         \n",
      "_________________________________________________________________\n",
      "dropout_5 (Dropout)          (None, 4, 323, 128)       0         \n",
      "_________________________________________________________________\n",
      "conv2d_4 (Conv2D)            (None, 4, 323, 128)       147584    \n",
      "_________________________________________________________________\n",
      "activation_7 (Activation)    (None, 4, 323, 128)       0         \n",
      "_________________________________________________________________\n",
      "batch_normalization_5 (Batch (None, 4, 323, 128)       512       \n",
      "_________________________________________________________________\n",
      "max_pooling2d_4 (MaxPooling2 (None, 1, 161, 128)       0         \n",
      "_________________________________________________________________\n",
      "dropout_6 (Dropout)          (None, 1, 161, 128)       0         \n",
      "_________________________________________________________________\n",
      "permute_1 (Permute)          (None, 161, 1, 128)       0         \n",
      "_________________________________________________________________\n",
      "reshape_1 (Reshape)          (None, 161, 128)          0         \n",
      "_________________________________________________________________\n",
      "gru_1 (GRU)                  (None, 161, 32)           15456     \n",
      "_________________________________________________________________\n",
      "gru_2 (GRU)                  (None, 32)                6240      \n",
      "_________________________________________________________________\n",
      "dropout_7 (Dropout)          (None, 32)                0         \n",
      "_________________________________________________________________\n",
      "dense_4 (Dense)              (None, 6)                 198       \n",
      "_________________________________________________________________\n",
      "activation_8 (Activation)    (None, 6)                 0         \n",
      "=================================================================\n",
      "Total params: 393,862\n",
      "Trainable params: 392,710\n",
      "Non-trainable params: 1,152\n",
      "_________________________________________________________________\n",
      "\n",
      "Looking for previous weights...\n",
      "No checkpoint file detected.  Starting from scratch.\n",
      "Input Data Shape (1932, 128, 2584, 1) \n",
      "\n",
      "Train on 1932 samples, validate on 216 samples\n",
      "Epoch 1/200\n",
      "1920/1932 [============================>.] - ETA: 16s - loss: 1.8204 - acc: 0.2151Epoch 00001: val_loss improved from inf to 1.92025, saving model to weights_mel/6_2584_42\n",
      "1932/1932 [==============================] - 2706s 1s/step - loss: 1.8200 - acc: 0.2148 - val_loss: 1.9202 - val_acc: 0.1944\n",
      "Epoch 2/200\n",
      "1920/1932 [============================>.] - ETA: 12s - loss: 1.7601 - acc: 0.2578Epoch 00002: val_loss improved from 1.92025 to 1.89496, saving model to weights_mel/6_2584_42\n",
      "1932/1932 [==============================] - 2049s 1s/step - loss: 1.7595 - acc: 0.2583 - val_loss: 1.8950 - val_acc: 0.1574\n",
      "Epoch 3/200\n",
      "1920/1932 [============================>.] - ETA: 12s - loss: 1.7151 - acc: 0.2786Epoch 00003: val_loss improved from 1.89496 to 1.87633, saving model to weights_mel/6_2584_42\n",
      "1932/1932 [==============================] - 1997s 1s/step - loss: 1.7156 - acc: 0.2785 - val_loss: 1.8763 - val_acc: 0.2176\n",
      "Epoch 4/200\n",
      "1920/1932 [============================>.] - ETA: 11s - loss: 1.6612 - acc: 0.3224Epoch 00004: val_loss improved from 1.87633 to 1.80321, saving model to weights_mel/6_2584_42\n",
      "1932/1932 [==============================] - 1979s 1s/step - loss: 1.6609 - acc: 0.3225 - val_loss: 1.8032 - val_acc: 0.2685\n",
      "Epoch 5/200\n",
      "1920/1932 [============================>.] - ETA: 11s - loss: 1.6558 - acc: 0.3036Epoch 00005: val_loss improved from 1.80321 to 1.68464, saving model to weights_mel/6_2584_42\n",
      "1932/1932 [==============================] - 1976s 1s/step - loss: 1.6561 - acc: 0.3033 - val_loss: 1.6846 - val_acc: 0.3472\n",
      "Epoch 6/200\n",
      "1920/1932 [============================>.] - ETA: 12s - loss: 1.6323 - acc: 0.3333Epoch 00006: val_loss did not improve\n",
      "1932/1932 [==============================] - 2013s 1s/step - loss: 1.6327 - acc: 0.3328 - val_loss: 1.7331 - val_acc: 0.2870\n",
      "Epoch 7/200\n",
      "1920/1932 [============================>.] - ETA: 12s - loss: 1.6050 - acc: 0.3568Epoch 00007: val_loss did not improve\n",
      "1932/1932 [==============================] - 2021s 1s/step - loss: 1.6057 - acc: 0.3561 - val_loss: 1.6868 - val_acc: 0.3102\n",
      "Epoch 8/200\n",
      "1920/1932 [============================>.] - ETA: 12s - loss: 1.5676 - acc: 0.3547Epoch 00008: val_loss did not improve\n",
      "1932/1932 [==============================] - 2023s 1s/step - loss: 1.5683 - acc: 0.3551 - val_loss: 1.7344 - val_acc: 0.3426\n",
      "Epoch 9/200\n",
      "1920/1932 [============================>.] - ETA: 11s - loss: 1.5451 - acc: 0.3786Epoch 00009: val_loss did not improve\n",
      "1932/1932 [==============================] - 2001s 1s/step - loss: 1.5460 - acc: 0.3784 - val_loss: 1.7082 - val_acc: 0.2917\n",
      "Epoch 10/200\n",
      "1920/1932 [============================>.] - ETA: 11s - loss: 1.5249 - acc: 0.3839Epoch 00010: val_loss improved from 1.68464 to 1.64151, saving model to weights_mel/6_2584_42\n",
      "1932/1932 [==============================] - 1988s 1s/step - loss: 1.5233 - acc: 0.3851 - val_loss: 1.6415 - val_acc: 0.3426\n",
      "Epoch 11/200\n",
      "1920/1932 [============================>.] - ETA: 11s - loss: 1.4814 - acc: 0.4083Epoch 00011: val_loss did not improve\n",
      "1932/1932 [==============================] - 1992s 1s/step - loss: 1.4834 - acc: 0.4068 - val_loss: 1.6928 - val_acc: 0.3287\n",
      "Epoch 12/200\n",
      "1920/1932 [============================>.] - ETA: 12s - loss: 1.4516 - acc: 0.4286Epoch 00012: val_loss improved from 1.64151 to 1.63248, saving model to weights_mel/6_2584_42\n",
      "1932/1932 [==============================] - 2016s 1s/step - loss: 1.4506 - acc: 0.4296 - val_loss: 1.6325 - val_acc: 0.3704\n",
      "Epoch 13/200\n",
      "1920/1932 [============================>.] - ETA: 11s - loss: 1.3978 - acc: 0.4557Epoch 00013: val_loss did not improve\n",
      "1932/1932 [==============================] - 1996s 1s/step - loss: 1.3961 - acc: 0.4576 - val_loss: 1.6705 - val_acc: 0.3657\n",
      "Epoch 14/200\n",
      "1920/1932 [============================>.] - ETA: 12s - loss: 1.3722 - acc: 0.4745Epoch 00014: val_loss improved from 1.63248 to 1.60040, saving model to weights_mel/6_2584_42\n",
      "1932/1932 [==============================] - 2031s 1s/step - loss: 1.3712 - acc: 0.4741 - val_loss: 1.6004 - val_acc: 0.3611\n",
      "Epoch 15/200\n",
      "1920/1932 [============================>.] - ETA: 11s - loss: 1.3506 - acc: 0.4823Epoch 00015: val_loss did not improve\n",
      "1932/1932 [==============================] - 1996s 1s/step - loss: 1.3518 - acc: 0.4819 - val_loss: 1.6614 - val_acc: 0.3796\n",
      "Epoch 16/200\n",
      "1920/1932 [============================>.] - ETA: 12s - loss: 1.2962 - acc: 0.5115Epoch 00016: val_loss improved from 1.60040 to 1.51156, saving model to weights_mel/6_2584_42\n",
      "1932/1932 [==============================] - 2011s 1s/step - loss: 1.2947 - acc: 0.5124 - val_loss: 1.5116 - val_acc: 0.3519\n",
      "Epoch 17/200\n",
      "1920/1932 [============================>.] - ETA: 14s - loss: 1.2887 - acc: 0.5016Epoch 00017: val_loss did not improve\n",
      "1932/1932 [==============================] - 2434s 1s/step - loss: 1.2873 - acc: 0.5016 - val_loss: 1.5554 - val_acc: 0.3519\n",
      "Epoch 18/200\n",
      "1920/1932 [============================>.] - ETA: 12s - loss: 1.2356 - acc: 0.5385Epoch 00018: val_loss did not improve\n",
      "1932/1932 [==============================] - 2139s 1s/step - loss: 1.2347 - acc: 0.5399 - val_loss: 1.7274 - val_acc: 0.3056\n",
      "Epoch 19/200\n",
      "1920/1932 [============================>.] - ETA: 12s - loss: 1.2036 - acc: 0.5500Epoch 00019: val_loss improved from 1.51156 to 1.50021, saving model to weights_mel/6_2584_42\n",
      "1932/1932 [==============================] - 2039s 1s/step - loss: 1.2045 - acc: 0.5497 - val_loss: 1.5002 - val_acc: 0.3565\n",
      "Epoch 20/200\n",
      "1920/1932 [============================>.] - ETA: 12s - loss: 1.1674 - acc: 0.5661Epoch 00020: val_loss improved from 1.50021 to 1.42769, saving model to weights_mel/6_2584_42\n",
      "1932/1932 [==============================] - 2097s 1s/step - loss: 1.1680 - acc: 0.5657 - val_loss: 1.4277 - val_acc: 0.4306\n",
      "Epoch 21/200\n",
      "1920/1932 [============================>.] - ETA: 12s - loss: 1.1224 - acc: 0.5901Epoch 00021: val_loss did not improve\n",
      "1932/1932 [==============================] - 2037s 1s/step - loss: 1.1228 - acc: 0.5906 - val_loss: 1.4657 - val_acc: 0.4259\n",
      "Epoch 22/200\n",
      "1920/1932 [============================>.] - ETA: 12s - loss: 1.0883 - acc: 0.5990Epoch 00022: val_loss did not improve\n",
      "1932/1932 [==============================] - 2025s 1s/step - loss: 1.0873 - acc: 0.5989 - val_loss: 1.4735 - val_acc: 0.3981\n",
      "Epoch 23/200\n",
      "1920/1932 [============================>.] - ETA: 12s - loss: 1.0362 - acc: 0.6323Epoch 00023: val_loss did not improve\n",
      "1932/1932 [==============================] - 2069s 1s/step - loss: 1.0345 - acc: 0.6330 - val_loss: 1.4556 - val_acc: 0.4398\n",
      "Epoch 24/200\n",
      "1920/1932 [============================>.] - ETA: 12s - loss: 1.0149 - acc: 0.6281Epoch 00024: val_loss did not improve\n",
      "1932/1932 [==============================] - 2044s 1s/step - loss: 1.0159 - acc: 0.6284 - val_loss: 1.4358 - val_acc: 0.3981\n",
      "Epoch 25/200\n",
      "1920/1932 [============================>.] - ETA: 12s - loss: 0.9723 - acc: 0.6339Epoch 00025: val_loss did not improve\n",
      "1932/1932 [==============================] - 2023s 1s/step - loss: 0.9737 - acc: 0.6335 - val_loss: 1.5238 - val_acc: 0.4028\n",
      "Epoch 26/200\n",
      "1920/1932 [============================>.] - ETA: 12s - loss: 0.9148 - acc: 0.6703Epoch 00026: val_loss improved from 1.42769 to 1.39437, saving model to weights_mel/6_2584_42\n",
      "1932/1932 [==============================] - 2034s 1s/step - loss: 0.9153 - acc: 0.6698 - val_loss: 1.3944 - val_acc: 0.4398\n",
      "Epoch 27/200\n",
      "1920/1932 [============================>.] - ETA: 12s - loss: 0.8977 - acc: 0.6828Epoch 00027: val_loss improved from 1.39437 to 1.24765, saving model to weights_mel/6_2584_42\n",
      "1932/1932 [==============================] - 2061s 1s/step - loss: 0.8993 - acc: 0.6822 - val_loss: 1.2477 - val_acc: 0.4676\n",
      "Epoch 28/200\n",
      "1920/1932 [============================>.] - ETA: 12s - loss: 0.8738 - acc: 0.6865Epoch 00028: val_loss did not improve\n",
      "1932/1932 [==============================] - 2043s 1s/step - loss: 0.8734 - acc: 0.6863 - val_loss: 1.4312 - val_acc: 0.3704\n",
      "Epoch 29/200\n",
      "1920/1932 [============================>.] - ETA: 12s - loss: 0.8388 - acc: 0.6932Epoch 00029: val_loss did not improve\n",
      "1932/1932 [==============================] - 2055s 1s/step - loss: 0.8386 - acc: 0.6936 - val_loss: 1.5579 - val_acc: 0.3472\n",
      "Epoch 30/200\n",
      "1920/1932 [============================>.] - ETA: 12s - loss: 0.8200 - acc: 0.7125Epoch 00030: val_loss did not improve\n",
      "1932/1932 [==============================] - 2070s 1s/step - loss: 0.8184 - acc: 0.7127 - val_loss: 1.5462 - val_acc: 0.4213\n",
      "Epoch 31/200\n",
      "1920/1932 [============================>.] - ETA: 12s - loss: 0.7687 - acc: 0.7391Epoch 00031: val_loss did not improve\n",
      "1932/1932 [==============================] - 2046s 1s/step - loss: 0.7672 - acc: 0.7402 - val_loss: 1.5937 - val_acc: 0.3889\n",
      "Epoch 32/200\n",
      "1920/1932 [============================>.] - ETA: 12s - loss: 0.7546 - acc: 0.7240Epoch 00032: val_loss did not improve\n",
      "1932/1932 [==============================] - 2055s 1s/step - loss: 0.7562 - acc: 0.7231 - val_loss: 1.4581 - val_acc: 0.3889\n",
      "Epoch 33/200\n",
      "1920/1932 [============================>.] - ETA: 12s - loss: 0.7270 - acc: 0.7391Epoch 00033: val_loss did not improve\n",
      "1932/1932 [==============================] - 2070s 1s/step - loss: 0.7266 - acc: 0.7386 - val_loss: 1.4973 - val_acc: 0.3981\n",
      "Epoch 34/200\n",
      "1920/1932 [============================>.] - ETA: 12s - loss: 0.7090 - acc: 0.7443Epoch 00034: val_loss did not improve\n",
      "1932/1932 [==============================] - 2094s 1s/step - loss: 0.7091 - acc: 0.7443 - val_loss: 1.6470 - val_acc: 0.3657\n",
      "Epoch 35/200\n",
      "1920/1932 [============================>.] - ETA: 12s - loss: 0.6768 - acc: 0.7609Epoch 00035: val_loss did not improve\n",
      "1932/1932 [==============================] - 2077s 1s/step - loss: 0.6753 - acc: 0.7619 - val_loss: 1.6332 - val_acc: 0.4259\n",
      "Epoch 36/200\n",
      "1920/1932 [============================>.] - ETA: 12s - loss: 0.6452 - acc: 0.7708Epoch 00036: val_loss did not improve\n",
      "1932/1932 [==============================] - 2081s 1s/step - loss: 0.6453 - acc: 0.7707 - val_loss: 1.6479 - val_acc: 0.4213\n",
      "Epoch 37/200\n",
      "1920/1932 [============================>.] - ETA: 12s - loss: 0.6386 - acc: 0.7740Epoch 00037: val_loss did not improve\n",
      "1932/1932 [==============================] - 2046s 1s/step - loss: 0.6408 - acc: 0.7738 - val_loss: 1.5131 - val_acc: 0.4630\n"
     ]
    },
    {
     "data": {
      "image/png": "[encoded data removed]",
      "text/plain": [
       "<Figure size 432x288 with 1 Axes>"
      ]
     },
     "metadata": {
      "needs_background": "light"
     },
     "output_type": "display_data"
    },
    {
     "name": "stdout",
     "output_type": "stream",
     "text": [
      "Test score/loss: 1.3790717522303264\n",
      "Test accuracy: 0.475\n",
      "\n",
      "Test results on each slice:\n",
      "              precision    recall  f1-score   support\n",
      "\n",
      " Anjunabeats       0.49      0.69      0.57        48\n",
      "      Armind       0.52      0.55      0.53        42\n",
      " Coldharbour       0.36      0.33      0.35        36\n",
      "        FSOE       0.49      0.40      0.44        48\n",
      "        Pure       0.38      0.37      0.37        30\n",
      "      WAO138       0.57      0.44      0.50        36\n",
      "\n",
      "   micro avg       0.47      0.47      0.48       240\n",
      "   macro avg       0.47      0.46      0.46       240\n",
      "weighted avg       0.48      0.47      0.47       240\n",
      "\n",
      "Test results when pooling slices by song and voting:\n",
      "              precision    recall  f1-score   support\n",
      "\n",
      " Anjunabeats       0.50      0.88      0.64         8\n",
      "      Armind       0.43      0.43      0.43         7\n",
      " Coldharbour       0.50      0.33      0.40         6\n",
      "        FSOE       0.38      0.38      0.38         8\n",
      "        Pure       0.67      0.40      0.50         5\n",
      "      WAO138       0.50      0.33      0.40         6\n",
      "\n",
      "   micro avg       0.47      0.47      0.48        40\n",
      "   macro avg       0.50      0.46      0.46        40\n",
      "weighted avg       0.48      0.47      0.46        40\n",
      "\n",
      "\n",
      "\n",
      "\n",
      "CPU times: user 5d 3h 41min 26s, sys: 15h 7min 55s, total: 5d 18h 49min 22s\n",
      "Wall time: 21h 25min 50s\n"
     ]
    }
   ],
   "source": [
    "%%time\n",
    "slice_lengths = [2584] #[1722, 861, 430, 258, 86]\n",
    "\n",
    "best_accuracy, best_slice_len = train_slice_lengths_crnn(train_songs=train_songs, \n",
    "                                                         val_songs=val_songs, \n",
    "                                                         test_songs=test_songs, \n",
    "                                                         slice_lengths=slice_lengths, \n",
    "                                                         song_folder='song_mel_label_data/6', \n",
    "                                                         n_classes=6, \n",
    "                                                         train=False,\n",
    "                                                         load_check_point=True, \n",
    "                                                         save_metrics_folder='metrics_plots_mel',\n",
    "                                                         save_weights_folder='weights_mel', \n",
    "                                                         batch_size=16, \n",
    "                                                         nb_epochs=200, \n",
    "                                                         early_stop=10, \n",
    "                                                         lr=0.0001,\n",
    "                                                         random_state=42, \n",
    "                                                         summary_metrics_output_folder='summary_mel')"
   ]
  },
  {
   "cell_type": "markdown",
   "metadata": {},
   "source": [
    "#### Overall metrics"
   ]
  },
  {
   "cell_type": "markdown",
   "metadata": {},
   "source": [
    "![caption](./metrics_plots_mel/6_2584_42.txt.png)"
   ]
  },
  {
   "cell_type": "markdown",
   "metadata": {},
   "source": [
    "#### Pooled metrics"
   ]
  },
  {
   "cell_type": "markdown",
   "metadata": {},
   "source": [
    "![caption](./metrics_plots_mel/6_2584_42.txt_pooled.png)"
   ]
  },
  {
   "cell_type": "markdown",
   "metadata": {},
   "source": [
    "## t-SNE "
   ]
  },
  {
   "cell_type": "markdown",
   "metadata": {},
   "source": [
    "### Frame level"
   ]
  },
  {
   "cell_type": "code",
   "execution_count": 2,
   "metadata": {},
   "outputs": [
    {
     "name": "stdout",
     "output_type": "stream",
     "text": [
      "Loading data for 2584\n"
     ]
    },
    {
     "name": "stderr",
     "output_type": "stream",
     "text": [
      "/home/kike/miniconda3/envs/trance_classification/lib/python3.6/site-packages/sklearn/preprocessing/_encoders.py:363: FutureWarning: The handling of integer data will change in version 0.22. Currently, the categories are determined based on the range [0, max(values)], while in the future they will be determined based on the unique values.\n",
      "If you want the future behaviour and silence this warning, you can specify \"categories='auto'\".\n",
      "In case you used a LabelEncoder before this OneHotEncoder to convert the categories to integers, then you can now use the OneHotEncoder directly.\n",
      "  warnings.warn(msg, FutureWarning)\n"
     ]
    },
    {
     "name": "stdout",
     "output_type": "stream",
     "text": [
      "WARNING:tensorflow:From /home/kike/miniconda3/envs/trance_classification/lib/python3.6/site-packages/keras/backend/tensorflow_backend.py:1242: calling reduce_sum (from tensorflow.python.ops.math_ops) with keep_dims is deprecated and will be removed in a future version.\n",
      "Instructions for updating:\n",
      "keep_dims is deprecated, use keepdims instead\n",
      "WARNING:tensorflow:From /home/kike/miniconda3/envs/trance_classification/lib/python3.6/site-packages/keras/backend/tensorflow_backend.py:1344: calling reduce_mean (from tensorflow.python.ops.math_ops) with keep_dims is deprecated and will be removed in a future version.\n",
      "Instructions for updating:\n",
      "keep_dims is deprecated, use keepdims instead\n",
      "Checkpoint file detected. Loading weights. \n",
      "\n",
      "Modifying model and predicting representation\n",
      "_________________________________________________________________\n",
      "Layer (type)                 Output Shape              Param #   \n",
      "=================================================================\n",
      "batch_normalization_1 (Batch (None, 128, 2584, 1)      512       \n",
      "_________________________________________________________________\n",
      "conv2d_1 (Conv2D)            (None, 128, 2584, 64)     640       \n",
      "_________________________________________________________________\n",
      "activation_1 (Activation)    (None, 128, 2584, 64)     0         \n",
      "_________________________________________________________________\n",
      "batch_normalization_2 (Batch (None, 128, 2584, 64)     256       \n",
      "_________________________________________________________________\n",
      "max_pooling2d_1 (MaxPooling2 (None, 64, 1292, 64)      0         \n",
      "_________________________________________________________________\n",
      "dropout_1 (Dropout)          (None, 64, 1292, 64)      0         \n",
      "_________________________________________________________________\n",
      "conv2d_2 (Conv2D)            (None, 64, 1292, 128)     73856     \n",
      "_________________________________________________________________\n",
      "activation_2 (Activation)    (None, 64, 1292, 128)     0         \n",
      "_________________________________________________________________\n",
      "batch_normalization_3 (Batch (None, 64, 1292, 128)     512       \n",
      "_________________________________________________________________\n",
      "max_pooling2d_2 (MaxPooling2 (None, 16, 646, 128)      0         \n",
      "_________________________________________________________________\n",
      "dropout_2 (Dropout)          (None, 16, 646, 128)      0         \n",
      "_________________________________________________________________\n",
      "conv2d_3 (Conv2D)            (None, 16, 646, 128)      147584    \n",
      "_________________________________________________________________\n",
      "activation_3 (Activation)    (None, 16, 646, 128)      0         \n",
      "_________________________________________________________________\n",
      "batch_normalization_4 (Batch (None, 16, 646, 128)      512       \n",
      "_________________________________________________________________\n",
      "max_pooling2d_3 (MaxPooling2 (None, 4, 323, 128)       0         \n",
      "_________________________________________________________________\n",
      "dropout_3 (Dropout)          (None, 4, 323, 128)       0         \n",
      "_________________________________________________________________\n",
      "conv2d_4 (Conv2D)            (None, 4, 323, 128)       147584    \n",
      "_________________________________________________________________\n",
      "activation_4 (Activation)    (None, 4, 323, 128)       0         \n",
      "_________________________________________________________________\n",
      "batch_normalization_5 (Batch (None, 4, 323, 128)       512       \n",
      "_________________________________________________________________\n",
      "max_pooling2d_4 (MaxPooling2 (None, 1, 161, 128)       0         \n",
      "_________________________________________________________________\n",
      "dropout_4 (Dropout)          (None, 1, 161, 128)       0         \n",
      "_________________________________________________________________\n",
      "permute_1 (Permute)          (None, 161, 1, 128)       0         \n",
      "_________________________________________________________________\n",
      "reshape_1 (Reshape)          (None, 161, 128)          0         \n",
      "_________________________________________________________________\n",
      "gru_1 (GRU)                  (None, 161, 32)           15456     \n",
      "_________________________________________________________________\n",
      "gru_2 (GRU)                  (None, 32)                6240      \n",
      "_________________________________________________________________\n",
      "dropout_5 (Dropout)          (None, 32)                0         \n",
      "=================================================================\n",
      "Total params: 393,664\n",
      "Trainable params: 392,512\n",
      "Non-trainable params: 1,152\n",
      "_________________________________________________________________\n",
      "\n",
      " Predicting \n",
      "\n",
      "Fitting TSNE (2388, 32) \n",
      "\n",
      "Saving results\n"
     ]
    }
   ],
   "source": [
    "plot_mel_tsne(random_state=42, \n",
    "              slice_length=2584, \n",
    "              nb_classes=6, \n",
    "              weights_path='weights_mel',\n",
    "              folder='song_mel_label_data/6', \n",
    "              ensemble_visual=False, \n",
    "              save_path='tSNE_mel', \n",
    "              trance_df=None)"
   ]
  },
  {
   "cell_type": "markdown",
   "metadata": {},
   "source": [
    "![caption](./tSNE_mel/6_2584_label.png)"
   ]
  },
  {
   "cell_type": "markdown",
   "metadata": {},
   "source": [
    "### Song level"
   ]
  },
  {
   "cell_type": "code",
   "execution_count": 5,
   "metadata": {},
   "outputs": [
    {
     "name": "stdout",
     "output_type": "stream",
     "text": [
      "Loading data for 2584\n"
     ]
    },
    {
     "name": "stderr",
     "output_type": "stream",
     "text": [
      "/home/kike/miniconda3/envs/trance_classification/lib/python3.6/site-packages/sklearn/preprocessing/_encoders.py:363: FutureWarning: The handling of integer data will change in version 0.22. Currently, the categories are determined based on the range [0, max(values)], while in the future they will be determined based on the unique values.\n",
      "If you want the future behaviour and silence this warning, you can specify \"categories='auto'\".\n",
      "In case you used a LabelEncoder before this OneHotEncoder to convert the categories to integers, then you can now use the OneHotEncoder directly.\n",
      "  warnings.warn(msg, FutureWarning)\n"
     ]
    },
    {
     "name": "stdout",
     "output_type": "stream",
     "text": [
      "Checkpoint file detected. Loading weights. \n",
      "\n",
      "Modifying model and predicting representation\n",
      "_________________________________________________________________\n",
      "Layer (type)                 Output Shape              Param #   \n",
      "=================================================================\n",
      "batch_normalization_6 (Batch (None, 128, 2584, 1)      512       \n",
      "_________________________________________________________________\n",
      "conv2d_5 (Conv2D)            (None, 128, 2584, 64)     640       \n",
      "_________________________________________________________________\n",
      "activation_6 (Activation)    (None, 128, 2584, 64)     0         \n",
      "_________________________________________________________________\n",
      "batch_normalization_7 (Batch (None, 128, 2584, 64)     256       \n",
      "_________________________________________________________________\n",
      "max_pooling2d_5 (MaxPooling2 (None, 64, 1292, 64)      0         \n",
      "_________________________________________________________________\n",
      "dropout_6 (Dropout)          (None, 64, 1292, 64)      0         \n",
      "_________________________________________________________________\n",
      "conv2d_6 (Conv2D)            (None, 64, 1292, 128)     73856     \n",
      "_________________________________________________________________\n",
      "activation_7 (Activation)    (None, 64, 1292, 128)     0         \n",
      "_________________________________________________________________\n",
      "batch_normalization_8 (Batch (None, 64, 1292, 128)     512       \n",
      "_________________________________________________________________\n",
      "max_pooling2d_6 (MaxPooling2 (None, 16, 646, 128)      0         \n",
      "_________________________________________________________________\n",
      "dropout_7 (Dropout)          (None, 16, 646, 128)      0         \n",
      "_________________________________________________________________\n",
      "conv2d_7 (Conv2D)            (None, 16, 646, 128)      147584    \n",
      "_________________________________________________________________\n",
      "activation_8 (Activation)    (None, 16, 646, 128)      0         \n",
      "_________________________________________________________________\n",
      "batch_normalization_9 (Batch (None, 16, 646, 128)      512       \n",
      "_________________________________________________________________\n",
      "max_pooling2d_7 (MaxPooling2 (None, 4, 323, 128)       0         \n",
      "_________________________________________________________________\n",
      "dropout_8 (Dropout)          (None, 4, 323, 128)       0         \n",
      "_________________________________________________________________\n",
      "conv2d_8 (Conv2D)            (None, 4, 323, 128)       147584    \n",
      "_________________________________________________________________\n",
      "activation_9 (Activation)    (None, 4, 323, 128)       0         \n",
      "_________________________________________________________________\n",
      "batch_normalization_10 (Batc (None, 4, 323, 128)       512       \n",
      "_________________________________________________________________\n",
      "max_pooling2d_8 (MaxPooling2 (None, 1, 161, 128)       0         \n",
      "_________________________________________________________________\n",
      "dropout_9 (Dropout)          (None, 1, 161, 128)       0         \n",
      "_________________________________________________________________\n",
      "permute_2 (Permute)          (None, 161, 1, 128)       0         \n",
      "_________________________________________________________________\n",
      "reshape_2 (Reshape)          (None, 161, 128)          0         \n",
      "_________________________________________________________________\n",
      "gru_3 (GRU)                  (None, 161, 32)           15456     \n",
      "_________________________________________________________________\n",
      "gru_4 (GRU)                  (None, 32)                6240      \n",
      "_________________________________________________________________\n",
      "dropout_10 (Dropout)         (None, 32)                0         \n",
      "=================================================================\n",
      "Total params: 393,664\n",
      "Trainable params: 392,512\n",
      "Non-trainable params: 1,152\n",
      "_________________________________________________________________\n",
      "\n",
      " Predicting \n",
      "\n",
      "Fitting TSNE (398, 32) \n",
      "\n",
      "Saving results\n"
     ]
    }
   ],
   "source": [
    "plot_mel_tsne(random_state=42, \n",
    "              slice_length=2584, \n",
    "              nb_classes=6, \n",
    "              weights_path='weights_mel',\n",
    "              folder='song_mel_label_data/6', \n",
    "              ensemble_visual=True, \n",
    "              save_path='tSNE_mel', \n",
    "              trance_df=trance_df)"
   ]
  },
  {
   "cell_type": "markdown",
   "metadata": {},
   "source": [
    "#### Label"
   ]
  },
  {
   "cell_type": "markdown",
   "metadata": {},
   "source": [
    "![caption](./tSNE_mel/6_2584_ensemble_label.png)"
   ]
  },
  {
   "cell_type": "markdown",
   "metadata": {},
   "source": [
    "#### BPM"
   ]
  },
  {
   "cell_type": "markdown",
   "metadata": {},
   "source": [
    "![caption](./tSNE_mel/6_2584_ensemble_bpm.png)"
   ]
  },
  {
   "cell_type": "markdown",
   "metadata": {},
   "source": [
    "#### Min or major"
   ]
  },
  {
   "cell_type": "markdown",
   "metadata": {},
   "source": [
    "![caption](./tSNE_mel/6_2584_ensemble_mm.png)"
   ]
  }
 ],
 "metadata": {
  "kernelspec": {
   "display_name": "Python 3",
   "language": "python",
   "name": "python3"
  },
  "language_info": {
   "codemirror_mode": {
    "name": "ipython",
    "version": 3
   },
   "file_extension": ".py",
   "mimetype": "text/x-python",
   "name": "python",
   "nbconvert_exporter": "python",
   "pygments_lexer": "ipython3",
   "version": "3.7.3"
  }
 },
 "nbformat": 4,
 "nbformat_minor": 4
}
